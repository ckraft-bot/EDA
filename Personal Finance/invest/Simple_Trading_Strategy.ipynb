{
 "cells": [
  {
   "cell_type": "code",
   "execution_count": 2,
   "metadata": {},
   "outputs": [],
   "source": [
    "#buildinga simple trading strategy"
   ]
  },
  {
   "cell_type": "code",
   "execution_count": 3,
   "metadata": {},
   "outputs": [],
   "source": [
    "import pandas as pd\n",
    "import matplotlib.pyplot as plt\n",
    "%matplotlib inline"
   ]
  },
  {
   "cell_type": "code",
   "execution_count": 9,
   "metadata": {},
   "outputs": [
    {
     "data": {
      "text/html": [
       "<div><div id=3e83e0db-decf-4603-b866-dfd602f39988 style=\"display:none; background-color:#9D6CFF; color:white; width:200px; height:30px; padding-left:5px; border-radius:4px; flex-direction:row; justify-content:space-around; align-items:center;\" onmouseover=\"this.style.backgroundColor='#BA9BF8'\" onmouseout=\"this.style.backgroundColor='#9D6CFF'\" onclick=\"window.commands?.execute('create-mitosheet-from-dataframe-output');\">See Full Dataframe in Mito</div> <script> if (window.commands.hasCommand('create-mitosheet-from-dataframe-output')) document.getElementById('3e83e0db-decf-4603-b866-dfd602f39988').style.display = 'flex' </script> <table border=\"1\" class=\"dataframe\">\n",
       "  <thead>\n",
       "    <tr style=\"text-align: right;\">\n",
       "      <th></th>\n",
       "      <th>Date</th>\n",
       "      <th>Open</th>\n",
       "      <th>High</th>\n",
       "      <th>Low</th>\n",
       "      <th>Close</th>\n",
       "      <th>Adj Close</th>\n",
       "      <th>Volume</th>\n",
       "      <th>MA10</th>\n",
       "      <th>MA50</th>\n",
       "    </tr>\n",
       "  </thead>\n",
       "  <tbody>\n",
       "    <tr>\n",
       "      <th>0</th>\n",
       "      <td>2020-12-15</td>\n",
       "      <td>215.169998</td>\n",
       "      <td>215.419998</td>\n",
       "      <td>212.240005</td>\n",
       "      <td>214.130005</td>\n",
       "      <td>212.350037</td>\n",
       "      <td>27000600</td>\n",
       "      <td>NaN</td>\n",
       "      <td>NaN</td>\n",
       "    </tr>\n",
       "    <tr>\n",
       "      <th>1</th>\n",
       "      <td>2020-12-16</td>\n",
       "      <td>214.750000</td>\n",
       "      <td>220.110001</td>\n",
       "      <td>214.720001</td>\n",
       "      <td>219.279999</td>\n",
       "      <td>217.457199</td>\n",
       "      <td>35023300</td>\n",
       "      <td>NaN</td>\n",
       "      <td>NaN</td>\n",
       "    </tr>\n",
       "    <tr>\n",
       "      <th>2</th>\n",
       "      <td>2020-12-17</td>\n",
       "      <td>219.869995</td>\n",
       "      <td>220.889999</td>\n",
       "      <td>217.919998</td>\n",
       "      <td>219.419998</td>\n",
       "      <td>217.596054</td>\n",
       "      <td>32515800</td>\n",
       "      <td>NaN</td>\n",
       "      <td>NaN</td>\n",
       "    </tr>\n",
       "    <tr>\n",
       "      <th>3</th>\n",
       "      <td>2020-12-18</td>\n",
       "      <td>218.589996</td>\n",
       "      <td>219.690002</td>\n",
       "      <td>216.020004</td>\n",
       "      <td>218.589996</td>\n",
       "      <td>216.772934</td>\n",
       "      <td>63354900</td>\n",
       "      <td>NaN</td>\n",
       "      <td>NaN</td>\n",
       "    </tr>\n",
       "    <tr>\n",
       "      <th>4</th>\n",
       "      <td>2020-12-21</td>\n",
       "      <td>217.550003</td>\n",
       "      <td>224.000000</td>\n",
       "      <td>217.279999</td>\n",
       "      <td>222.589996</td>\n",
       "      <td>220.739685</td>\n",
       "      <td>37181900</td>\n",
       "      <td>NaN</td>\n",
       "      <td>NaN</td>\n",
       "    </tr>\n",
       "  </tbody>\n",
       "</table></div>"
      ],
      "text/plain": [
       "         Date        Open        High         Low       Close   Adj Close  \\\n",
       "0  2020-12-15  215.169998  215.419998  212.240005  214.130005  212.350037   \n",
       "1  2020-12-16  214.750000  220.110001  214.720001  219.279999  217.457199   \n",
       "2  2020-12-17  219.869995  220.889999  217.919998  219.419998  217.596054   \n",
       "3  2020-12-18  218.589996  219.690002  216.020004  218.589996  216.772934   \n",
       "4  2020-12-21  217.550003  224.000000  217.279999  222.589996  220.739685   \n",
       "\n",
       "     Volume  MA10  MA50  \n",
       "0  27000600   NaN   NaN  \n",
       "1  35023300   NaN   NaN  \n",
       "2  32515800   NaN   NaN  \n",
       "3  63354900   NaN   NaN  \n",
       "4  37181900   NaN   NaN  "
      ]
     },
     "execution_count": 9,
     "metadata": {},
     "output_type": "execute_result"
    }
   ],
   "source": [
    "#import Microsoft's stock data, add two columns - MA10 and MA50\n",
    "ms = pd.read_csv(r'C:\\Users\\ckraft\\Desktop\\My Experiments\\Personal Use\\MSFT.csv')\n",
    "ms['MA10'] = ms['Close'].rolling(10).mean() #10 days moving avg\n",
    "ms['MA50'] = ms['Close'].rolling(50).mean() #50 days moving avg\n",
    "#ms = ms.dropna()\n",
    "ms.head(5)"
   ]
  },
  {
   "cell_type": "code",
   "execution_count": 10,
   "metadata": {},
   "outputs": [],
   "source": [
    "#Add a new column \"Shares\", if MA10>MA50, denote as 1 (long one share of stock), otherwise, denote as 0 (do nothing)\n",
    "\n",
    "ms['Shares'] = [1 if ms.loc[ei, 'MA10']>ms.loc[ei, 'MA50'] else 0 for ei in ms.index]"
   ]
  },
  {
   "cell_type": "code",
   "execution_count": 11,
   "metadata": {},
   "outputs": [
    {
     "data": {
      "text/plain": [
       "<matplotlib.lines.Line2D at 0x18421b22cd0>"
      ]
     },
     "execution_count": 11,
     "metadata": {},
     "output_type": "execute_result"
    },
    {
     "data": {
      "image/png": "[encoded data removed]",
      "text/plain": [
       "<Figure size 432x288 with 1 Axes>"
      ]
     },
     "metadata": {
      "needs_background": "light"
     },
     "output_type": "display_data"
    }
   ],
   "source": [
    "#Add a new column \"Profit\" using List Comprehension, for any rows in ms, if Shares=1, the profit is calculated as the close price of \n",
    "#tomorrow - the close price of today. Otherwise the profit is 0.\n",
    "\n",
    "#Plot a graph to show the Profit/Loss\n",
    "\n",
    "ms['Close1'] = ms['Close'].shift(-1)\n",
    "ms['Profit'] = [ms.loc[ei, 'Close1'] - ms.loc[ei, 'Close'] if ms.loc[ei, 'Shares']==1 else 0 for ei in ms.index]\n",
    "ms['Profit'].plot()\n",
    "plt.axhline(y=0, color='red')"
   ]
  },
  {
   "cell_type": "code",
   "execution_count": 12,
   "metadata": {},
   "outputs": [
    {
     "data": {
      "text/html": [
       "<div><div id=c0602080-ff95-496c-ba23-ddc34a7a9b09 style=\"display:none; background-color:#9D6CFF; color:white; width:200px; height:30px; padding-left:5px; border-radius:4px; flex-direction:row; justify-content:space-around; align-items:center;\" onmouseover=\"this.style.backgroundColor='#BA9BF8'\" onmouseout=\"this.style.backgroundColor='#9D6CFF'\" onclick=\"window.commands?.execute('create-mitosheet-from-dataframe-output');\">See Full Dataframe in Mito</div> <script> if (window.commands.hasCommand('create-mitosheet-from-dataframe-output')) document.getElementById('c0602080-ff95-496c-ba23-ddc34a7a9b09').style.display = 'flex' </script> <table border=\"1\" class=\"dataframe\">\n",
       "  <thead>\n",
       "    <tr style=\"text-align: right;\">\n",
       "      <th></th>\n",
       "      <th>Date</th>\n",
       "      <th>Open</th>\n",
       "      <th>High</th>\n",
       "      <th>Low</th>\n",
       "      <th>Close</th>\n",
       "      <th>Adj Close</th>\n",
       "      <th>Volume</th>\n",
       "      <th>MA10</th>\n",
       "      <th>MA50</th>\n",
       "      <th>Shares</th>\n",
       "      <th>Close1</th>\n",
       "      <th>Profit</th>\n",
       "      <th>wealth</th>\n",
       "    </tr>\n",
       "  </thead>\n",
       "  <tbody>\n",
       "    <tr>\n",
       "      <th>247</th>\n",
       "      <td>2021-12-08</td>\n",
       "      <td>335.309998</td>\n",
       "      <td>335.500000</td>\n",
       "      <td>330.799988</td>\n",
       "      <td>334.970001</td>\n",
       "      <td>334.970001</td>\n",
       "      <td>24761000</td>\n",
       "      <td>331.347000</td>\n",
       "      <td>319.4452</td>\n",
       "      <td>1</td>\n",
       "      <td>333.100006</td>\n",
       "      <td>-1.869995</td>\n",
       "      <td>41.319991</td>\n",
       "    </tr>\n",
       "    <tr>\n",
       "      <th>248</th>\n",
       "      <td>2021-12-09</td>\n",
       "      <td>334.410004</td>\n",
       "      <td>336.489990</td>\n",
       "      <td>332.119995</td>\n",
       "      <td>333.100006</td>\n",
       "      <td>333.100006</td>\n",
       "      <td>22214200</td>\n",
       "      <td>330.866000</td>\n",
       "      <td>320.4272</td>\n",
       "      <td>1</td>\n",
       "      <td>342.540009</td>\n",
       "      <td>9.440003</td>\n",
       "      <td>50.759994</td>\n",
       "    </tr>\n",
       "    <tr>\n",
       "      <th>249</th>\n",
       "      <td>2021-12-10</td>\n",
       "      <td>334.980011</td>\n",
       "      <td>343.000000</td>\n",
       "      <td>334.790009</td>\n",
       "      <td>342.540009</td>\n",
       "      <td>342.540009</td>\n",
       "      <td>38077300</td>\n",
       "      <td>332.152002</td>\n",
       "      <td>321.6396</td>\n",
       "      <td>1</td>\n",
       "      <td>339.399994</td>\n",
       "      <td>-3.140015</td>\n",
       "      <td>47.619979</td>\n",
       "    </tr>\n",
       "    <tr>\n",
       "      <th>250</th>\n",
       "      <td>2021-12-13</td>\n",
       "      <td>340.679993</td>\n",
       "      <td>343.790009</td>\n",
       "      <td>339.079987</td>\n",
       "      <td>339.399994</td>\n",
       "      <td>339.399994</td>\n",
       "      <td>28899400</td>\n",
       "      <td>332.429001</td>\n",
       "      <td>322.6456</td>\n",
       "      <td>1</td>\n",
       "      <td>328.339996</td>\n",
       "      <td>-11.059998</td>\n",
       "      <td>36.559981</td>\n",
       "    </tr>\n",
       "    <tr>\n",
       "      <th>251</th>\n",
       "      <td>2021-12-14</td>\n",
       "      <td>333.220001</td>\n",
       "      <td>334.640015</td>\n",
       "      <td>324.109985</td>\n",
       "      <td>328.339996</td>\n",
       "      <td>328.339996</td>\n",
       "      <td>44407300</td>\n",
       "      <td>332.204001</td>\n",
       "      <td>323.5502</td>\n",
       "      <td>1</td>\n",
       "      <td>NaN</td>\n",
       "      <td>NaN</td>\n",
       "      <td>NaN</td>\n",
       "    </tr>\n",
       "  </tbody>\n",
       "</table></div>"
      ],
      "text/plain": [
       "           Date        Open        High         Low       Close   Adj Close  \\\n",
       "247  2021-12-08  335.309998  335.500000  330.799988  334.970001  334.970001   \n",
       "248  2021-12-09  334.410004  336.489990  332.119995  333.100006  333.100006   \n",
       "249  2021-12-10  334.980011  343.000000  334.790009  342.540009  342.540009   \n",
       "250  2021-12-13  340.679993  343.790009  339.079987  339.399994  339.399994   \n",
       "251  2021-12-14  333.220001  334.640015  324.109985  328.339996  328.339996   \n",
       "\n",
       "       Volume        MA10      MA50  Shares      Close1     Profit     wealth  \n",
       "247  24761000  331.347000  319.4452       1  333.100006  -1.869995  41.319991  \n",
       "248  22214200  330.866000  320.4272       1  342.540009   9.440003  50.759994  \n",
       "249  38077300  332.152002  321.6396       1  339.399994  -3.140015  47.619979  \n",
       "250  28899400  332.429001  322.6456       1  328.339996 -11.059998  36.559981  \n",
       "251  44407300  332.204001  323.5502       1         NaN        NaN        NaN  "
      ]
     },
     "execution_count": 12,
     "metadata": {},
     "output_type": "execute_result"
    }
   ],
   "source": [
    "#Use .cumsum() to calculate the accumulated wealth over the period\n",
    "\n",
    "ms['wealth'] = ms['Profit'].cumsum()\n",
    "ms.tail()"
   ]
  },
  {
   "cell_type": "code",
   "execution_count": 13,
   "metadata": {},
   "outputs": [
    {
     "data": {
      "text/plain": [
       "Text(0.5, 1.0, 'Total money you win is 36.559980999999965')"
      ]
     },
     "execution_count": 13,
     "metadata": {},
     "output_type": "execute_result"
    },
    {
     "data": {
      "image/png": "[encoded data removed]",
      "text/plain": [
       "<Figure size 432x288 with 1 Axes>"
      ]
     },
     "metadata": {
      "needs_background": "light"
     },
     "output_type": "display_data"
    }
   ],
   "source": [
    "#plot the wealth to show the growth of profit over the period\n",
    "\n",
    "ms['wealth'].plot()\n",
    "plt.title('Total money you win is {}'.format(ms.loc[ms.index[-2], 'wealth']))"
   ]
  }
 ],
 "metadata": {
  "interpreter": {
   "hash": "f040be8582051f793b05fbf2aab69dd7239653a51bcc4dee7075dc3f544143f8"
  },
  "kernelspec": {
   "display_name": "Python 3.9.5 64-bit",
   "language": "python",
   "name": "python3"
  },
  "language_info": {
   "codemirror_mode": {
    "name": "ipython",
    "version": 3
   },
   "file_extension": ".py",
   "mimetype": "text/x-python",
   "name": "python",
   "nbconvert_exporter": "python",
   "pygments_lexer": "ipython3",
   "version": "3.9.5"
  },
  "orig_nbformat": 4
 },
 "nbformat": 4,
 "nbformat_minor": 2
}
