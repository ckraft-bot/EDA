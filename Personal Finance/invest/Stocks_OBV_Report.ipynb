{
 "cells": [
  {
   "cell_type": "code",
   "execution_count": 1,
   "id": "6a88cec7",
   "metadata": {},
   "outputs": [],
   "source": [
    "#pip install yfinance"
   ]
  },
  {
   "cell_type": "code",
   "execution_count": 2,
   "id": "ccb251d9",
   "metadata": {},
   "outputs": [],
   "source": [
    "#pip install get-all-tickers"
   ]
  },
  {
   "cell_type": "code",
   "execution_count": 3,
   "id": "3269d225",
   "metadata": {},
   "outputs": [],
   "source": [
    "import yfinance as yf\n",
    "import pandas as pd\n",
    "import shutil\n",
    "import os\n",
    "import time\n",
    "import glob\n",
    "import smtplib\n",
    "import ssl\n",
    "from get_all_tickers import get_tickers as gt"
   ]
  },
  {
   "cell_type": "code",
   "execution_count": 4,
   "id": "79f9cc91",
   "metadata": {},
   "outputs": [
    {
     "name": "stdout",
     "output_type": "stream",
     "text": [
      "The amount of stocks chosen to observe: 6\n"
     ]
    }
   ],
   "source": [
    "tickers = ['^GSPC', 'XLK', 'BLOK', 'NLR', 'HSV.L', 'SOFI']\n",
    "print(\"The amount of stocks chosen to observe: \" + str(len(tickers)))"
   ]
  },
  {
   "cell_type": "code",
   "execution_count": 5,
   "id": "6d4aad72",
   "metadata": {
    "scrolled": true
   },
   "outputs": [
    {
     "name": "stdout",
     "output_type": "stream",
     "text": [
      "The amount of stocks we successfully imported: 6\n"
     ]
    }
   ],
   "source": [
    "#Purge- removes the filepath, for the indiv stocks, along with all the contents inside it then recreates the path for staging\n",
    "shutil.rmtree(\"C:\\\\Users\\\\ckraft\\\\Desktop\\\\My Experiments\\\\Personal Use\\\\Portfolio\")\n",
    "os.mkdir(\"C:\\\\Users\\\\ckraft\\\\Desktop\\\\My Experiments\\\\Personal Use\\\\Portfolio\")\n",
    "#holds the amount of API calls we executed\n",
    "Amount_of_API_Calls = 0 #while loop = responsible for storing historical data for each ticker on the list\n",
    "Stock_Failure = 0 #to make sure to not linger too long on API calls where a stock ticker is struggling\n",
    "Stocks_Not_Imported = 0 \n",
    "\n",
    "\n",
    "i = 0 #iteration through the list of tickers\n",
    "while (i < len(tickers)) and (Amount_of_API_Calls < 1800):\n",
    "    try:\n",
    "        stock = tickers[i]  #grabs the current stock ticker\n",
    "        temp = yf.Ticker(str(stock))\n",
    "        Hist_data = temp.history(period=\"max\")  #put a timeframe ofr period!!! #(20 - 30 yrs)!!!!!!!!!!!\n",
    "        #tells yfinance what kind of data we want about this stock \n",
    "        Hist_data.to_csv(\"C:\\\\Users\\\\ckraft\\\\Desktop\\\\My Experiments\\\\Personal Use\\\\Portfolio\\\\\"+ stock +\".csv\")  #saves the historical data in csv format for further processing later\n",
    "        time.sleep(2)  #pauses the loop for two seconds so to not cause issues for the Yahoo Finance's backend operations\n",
    "        Amount_of_API_Calls += 1 \n",
    "        Stock_Failure = 0\n",
    "        i += 1  #iteration to the next ticker\n",
    "    except ValueError:\n",
    "        print(\"Yahoo Finance Backend Error, Attempting to Fix\")  #an error occured on Yahoo Finance's backend. Try to retreive the data again.\n",
    "        if Stock_Failure > 5:  #ok...move on to the next ticker if the current ticker fails more than 5 times\n",
    "            i+=1\n",
    "            Stocks_Not_Imported += 1\n",
    "        Amount_of_API_Calls += 1\n",
    "        Stock_Failure += 1\n",
    "    \n",
    "print(\"The amount of stocks we successfully imported: \" + str(i - Stocks_Not_Imported))"
   ]
  },
  {
   "cell_type": "code",
   "execution_count": 6,
   "id": "71bb84c1",
   "metadata": {},
   "outputs": [
    {
     "name": "stdout",
     "output_type": "stream",
     "text": [
      "Your import has been published.\n"
     ]
    }
   ],
   "source": [
    "list_files = (glob.glob(\"C:\\\\Users\\\\ckraft\\\\Desktop\\\\My Experiments\\\\Personal Use\\\\Portfolio\\\\*.csv\")) # Creates a list of all csv filenames in the stocks folder\n",
    "new_data = [] #a 2D array to hold our stock name and OBV score\n",
    "interval = 0  #for iteration\n",
    "while interval < len(list_files):\n",
    "    Data = pd.read_csv(list_files[interval]).tail(10)  #gets the most recent 10 days of trading for the current stock in iteration\n",
    "    pos_move = []  #lists days of stock price increased\n",
    "    neg_move = []  #lists days of stock price decreased\n",
    "    OBV_Value = 0  #sets the initial OBV_Value to zero\n",
    "    count = 0\n",
    "    while (count < 10):  #most recent 10 trading days\n",
    "        if Data.iloc[count,1] < Data.iloc[count,4]:  #true = if the stock increased in price\n",
    "            pos_move.append(count)  #add the day to the pos_move list\n",
    "        elif Data.iloc[count,1] > Data.iloc[count,4]:  #true = if the stock decreased in price\n",
    "            neg_move.append(count)  #add the day to the neg_move list\n",
    "        count += 1\n",
    "    count2 = 0\n",
    "    for i in pos_move:  #adds the volumes of positive days to OBV_Value, divides by opening price to normalize across all stocks\n",
    "        OBV_Value = round(OBV_Value + (Data.iloc[i,5]/Data.iloc[i,1]))\n",
    "    for i in neg_move:  #subtracts the volumes of negative days from OBV_Value, divide by opening price to normalize across all stocks\n",
    "        OBV_Value = round(OBV_Value - (Data.iloc[i,5]/Data.iloc[i,1]))\n",
    "    Stock_Name = ((os.path.basename(list_files[interval])).split(\".csv\")[0])  #gets the name of the current stock we are analyzing\n",
    "    new_data.append([Stock_Name, OBV_Value])  #adds the stock name and OBV value to the new_data list\n",
    "    interval += 1\n",
    "df = pd.DataFrame(new_data, columns = ['Stock', 'OBV_Value'])  #creates a new dataframe from the new_data list\n",
    "df[\"Stocks_Ranked\"] = df[\"OBV_Value\"].rank(ascending = False)  #rank the stocks by their OBV_Values\n",
    "df.sort_values(\"OBV_Value\", inplace = True, ascending = False)  #sort the ranked stocks\n",
    "df.to_csv(\"C:\\\\Users\\\\ckraft\\\\Desktop\\\\My Experiments\\\\Personal Use\\\\Portfolio\\\\OnBalanceVolume_Ranked.csv\", index = False)  # Save the dataframe to a csv without the index column\n",
    "print(\"Your import has been published.\")"
   ]
  },
  {
   "cell_type": "code",
   "execution_count": 7,
   "id": "ac34d4f4",
   "metadata": {},
   "outputs": [],
   "source": [
    "#On Balance Volume (OBV)-- On-balance volume (OBV) is a technical trading momentum indicator \n",
    "#that uses volume flow to predict changes in stock price. Joseph Granville first developed \n",
    "#the OBV metric in the 1963 book Granville's New Key to Stock Market Profits."
   ]
  },
  {
   "cell_type": "code",
   "execution_count": 8,
   "id": "a205db96",
   "metadata": {},
   "outputs": [
    {
     "name": "stderr",
     "output_type": "stream",
     "text": [
      "Giving up send_request(...) after 11 tries (requests.exceptions.SSLError: HTTPSConnectionPool(host='api.segment.io', port=443): Max retries exceeded with url: /v1/batch (Caused by SSLError(SSLCertVerificationError(1, '[SSL: CERTIFICATE_VERIFY_FAILED] certificate verify failed: self signed certificate in certificate chain (_ssl.c:1129)'))))\n",
      "error uploading: HTTPSConnectionPool(host='api.segment.io', port=443): Max retries exceeded with url: /v1/batch (Caused by SSLError(SSLCertVerificationError(1, '[SSL: CERTIFICATE_VERIFY_FAILED] certificate verify failed: self signed certificate in certificate chain (_ssl.c:1129)')))\n"
     ]
    }
   ],
   "source": [
    "#OBV formula --  is simply a running total of positive and negative volume. \n",
    "#A period's volume is positive when the close is above the prior close\n",
    "#and is negative when the close is below the prior close.\n",
    "\n",
    "#OBV = Previous OBV + Current Day's Volume. If the closing price of the asset is the same as the previous day's closing price:\n",
    "#OBV = Previous OBV (+ 0) If the closing price of the asset is lower than the previous day's closing price:\n",
    "#OBV = Previous OBV – Current Day's Volume."
   ]
  },
  {
   "cell_type": "code",
   "execution_count": null,
   "id": "ce83022f",
   "metadata": {},
   "outputs": [],
   "source": []
  },
  {
   "cell_type": "code",
   "execution_count": null,
   "id": "4f780779",
   "metadata": {},
   "outputs": [],
   "source": []
  },
  {
   "cell_type": "code",
   "execution_count": null,
   "id": "f724fdc3",
   "metadata": {},
   "outputs": [],
   "source": []
  }
 ],
 "metadata": {
  "kernelspec": {
   "display_name": "Python 3 (ipykernel)",
   "language": "python",
   "name": "python3"
  },
  "language_info": {
   "codemirror_mode": {
    "name": "ipython",
    "version": 3
   },
   "file_extension": ".py",
   "mimetype": "text/x-python",
   "name": "python",
   "nbconvert_exporter": "python",
   "pygments_lexer": "ipython3",
   "version": "3.9.5"
  }
 },
 "nbformat": 4,
 "nbformat_minor": 5
}
