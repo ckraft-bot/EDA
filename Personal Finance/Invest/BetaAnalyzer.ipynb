{
 "cells": [
  {
   "cell_type": "code",
   "execution_count": 69,
   "id": "894022bf",
   "metadata": {},
   "outputs": [],
   "source": [
    "#loading historical stock prices\n",
    "#libraries\n",
    "    # Yfinance to stock prices\n",
    "    # Numpy to manipulate data\n",
    "    # Sklearn.linear_model will be used for the linear regression."
   ]
  },
  {
   "cell_type": "code",
   "execution_count": 70,
   "id": "15d1c054",
   "metadata": {},
   "outputs": [],
   "source": [
    "import yfinance as yf\n",
    "import numpy as np\n",
    "from sklearn.linear_model import LinearRegression"
   ]
  },
  {
   "cell_type": "code",
   "execution_count": 71,
   "id": "f0e7a2aa",
   "metadata": {},
   "outputs": [],
   "source": [
    "#tickers = ['^GSPC', 'XLK', 'BLOK', 'NLR', 'HSV.L', 'SOFI']\n",
    "\n",
    "symbols = ['XLK', '^GSPC'] #my stock against S&P 500"
   ]
  },
  {
   "cell_type": "code",
   "execution_count": 72,
   "id": "11d0abce",
   "metadata": {},
   "outputs": [
    {
     "name": "stdout",
     "output_type": "stream",
     "text": [
      "[*********************100%***********************]  2 of 2 completed\n"
     ]
    }
   ],
   "source": [
    "#df of hist stock prices date format yyyy-mm-dd\n",
    "tech = yf.download(symbols, '2018-12-01')['Adj Close'] \n",
    "#asking to download all hist data starting in 2018 Dec 1st"
   ]
  },
  {
   "cell_type": "code",
   "execution_count": 73,
   "id": "97051be7",
   "metadata": {},
   "outputs": [
    {
     "name": "stdout",
     "output_type": "stream",
     "text": [
      "                   XLK        ^GSPC\n",
      "Date                               \n",
      "2018-12-03   67.008209  2790.370117\n",
      "2018-12-04   64.470299  2700.060059\n",
      "2018-12-06   64.615051  2695.949951\n",
      "2018-12-07   62.337696  2633.080078\n",
      "2018-12-10   63.196529  2637.719971\n",
      "...                ...          ...\n",
      "2021-11-29  170.139999  4655.270020\n",
      "2021-11-30  168.720001  4567.000000\n",
      "2021-12-01  166.410004  4513.040039\n",
      "2021-12-02  167.940002  4577.100098\n",
      "2021-12-03  165.130005  4538.430176\n",
      "\n",
      "[757 rows x 2 columns]\n"
     ]
    }
   ],
   "source": [
    "print(tech)"
   ]
  },
  {
   "cell_type": "code",
   "execution_count": 74,
   "id": "d1c6676c",
   "metadata": {},
   "outputs": [
    {
     "name": "stdout",
     "output_type": "stream",
     "text": [
      "                 XLK     ^GSPC\n",
      "Date                          \n",
      "2018-12-03       NaN       NaN\n",
      "2018-12-04 -0.037875 -0.032365\n",
      "2018-12-06  0.002245 -0.001522\n",
      "2018-12-07 -0.035245 -0.023320\n",
      "2018-12-10  0.013777  0.001762\n",
      "...              ...       ...\n",
      "2021-11-29  0.025001  0.013200\n",
      "2021-11-30 -0.008346 -0.018961\n",
      "2021-12-01 -0.013691 -0.011815\n",
      "2021-12-02  0.009194  0.014194\n",
      "2021-12-03 -0.016732 -0.008449\n",
      "\n",
      "[757 rows x 2 columns]\n"
     ]
    }
   ],
   "source": [
    "#standardize hist stock prices to daily % change\n",
    "price_change = tech.pct_change()\n",
    "print(price_change)"
   ]
  },
  {
   "cell_type": "code",
   "execution_count": 75,
   "id": "194a9aee",
   "metadata": {},
   "outputs": [],
   "source": [
    "#data cleaning -- good bye NaNs\n",
    "tech_df = price_change.drop(price_change.index[0])\n"
   ]
  },
  {
   "cell_type": "code",
   "execution_count": 76,
   "id": "7e9dd40e",
   "metadata": {},
   "outputs": [],
   "source": [
    "#beta regression model\n",
    "# y = a + (b)(x)\n",
    "#create arrays, x and y vars\n",
    "#array: is an ordered collection of the similar data types, mutatble\n",
    "#list: dynamic and can contain objects of different data types, mutable\n",
    "#tuples: can store any type of data type, immutable, defined using ()\n",
    "x = np.array(tech_df['XLK']).reshape((-1,1))\n",
    "y = np.array(tech_df['^GSPC'])"
   ]
  },
  {
   "cell_type": "code",
   "execution_count": 77,
   "id": "6741ba73",
   "metadata": {},
   "outputs": [],
   "source": [
    "#define the model and set up the lin reg as the type of reg\n",
    "tech_model = LinearRegression().fit(x, y)"
   ]
  },
  {
   "cell_type": "code",
   "execution_count": 78,
   "id": "0f9711d0",
   "metadata": {},
   "outputs": [
    {
     "name": "stdout",
     "output_type": "stream",
     "text": [
      "tech Beta:  [0.76446391]\n"
     ]
    }
   ],
   "source": [
    "print('tech Beta: ', tech_model.coef_)"
   ]
  },
  {
   "cell_type": "code",
   "execution_count": 79,
   "id": "4cebc8ca",
   "metadata": {},
   "outputs": [],
   "source": [
    "############################ run sofi seperately as it's a baby"
   ]
  },
  {
   "cell_type": "code",
   "execution_count": 80,
   "id": "5c44089e",
   "metadata": {},
   "outputs": [],
   "source": [
    "############################# remaining stocks"
   ]
  },
  {
   "cell_type": "code",
   "execution_count": 81,
   "id": "e38b676a",
   "metadata": {},
   "outputs": [],
   "source": [
    "symbols2 = ['BLOK', '^GSPC'] #my stock against S&P 500"
   ]
  },
  {
   "cell_type": "code",
   "execution_count": 82,
   "id": "848cf353",
   "metadata": {},
   "outputs": [],
   "source": [
    "symbols3 = ['NLR', '^GSPC']"
   ]
  },
  {
   "cell_type": "code",
   "execution_count": 83,
   "id": "d0abf32b",
   "metadata": {},
   "outputs": [],
   "source": [
    "symbols4 = ['HSV.L', '^GSPC']"
   ]
  },
  {
   "cell_type": "code",
   "execution_count": 84,
   "id": "ffcc77c9",
   "metadata": {},
   "outputs": [],
   "source": [
    "symbols5 = ['SOFI', '^GSPC']"
   ]
  },
  {
   "cell_type": "code",
   "execution_count": 85,
   "id": "82088563",
   "metadata": {},
   "outputs": [
    {
     "name": "stdout",
     "output_type": "stream",
     "text": [
      "[*********************100%***********************]  2 of 2 completed\n"
     ]
    }
   ],
   "source": [
    "block = yf.download(symbols2, '2018-12-01')['Adj Close'] "
   ]
  },
  {
   "cell_type": "code",
   "execution_count": 86,
   "id": "f4ca1378",
   "metadata": {},
   "outputs": [
    {
     "name": "stdout",
     "output_type": "stream",
     "text": [
      "[*********************100%***********************]  2 of 2 completed\n"
     ]
    }
   ],
   "source": [
    "nukes = yf.download(symbols3, '2018-12-01')['Adj Close'] "
   ]
  },
  {
   "cell_type": "code",
   "execution_count": 87,
   "id": "435fa01b",
   "metadata": {},
   "outputs": [
    {
     "name": "stdout",
     "output_type": "stream",
     "text": [
      "[*********************100%***********************]  2 of 2 completed\n"
     ]
    }
   ],
   "source": [
    "homeserve = yf.download(symbols4, '2018-12-01')['Adj Close'] "
   ]
  },
  {
   "cell_type": "code",
   "execution_count": 88,
   "id": "0d828970",
   "metadata": {},
   "outputs": [
    {
     "name": "stdout",
     "output_type": "stream",
     "text": [
      "[*********************100%***********************]  2 of 2 completed\n"
     ]
    }
   ],
   "source": [
    "sofi = yf.download(symbols5, '2021-06-01')['Adj Close'] "
   ]
  },
  {
   "cell_type": "code",
   "execution_count": 89,
   "id": "32189671",
   "metadata": {},
   "outputs": [
    {
     "data": {
      "text/html": [
       "<div><div id=c6f7cc11-404a-49a8-8dcf-d830252e4f7e style=\"display:none; background-color:#9D6CFF; color:white; width:200px; height:30px; padding-left:5px; border-radius:4px; flex-direction:row; justify-content:space-around; align-items:center;\" onmouseover=\"this.style.backgroundColor='#BA9BF8'\" onmouseout=\"this.style.backgroundColor='#9D6CFF'\" onclick=\"window.commands?.execute('create-mitosheet-from-dataframe-output');\">See Full Dataframe in Mito</div> <script> if (window.commands.hasCommand('create-mitosheet-from-dataframe-output')) document.getElementById('c6f7cc11-404a-49a8-8dcf-d830252e4f7e').style.display = 'flex' </script> <table border=\"1\" class=\"dataframe\">\n",
       "  <thead>\n",
       "    <tr style=\"text-align: right;\">\n",
       "      <th></th>\n",
       "      <th>BLOK</th>\n",
       "      <th>^GSPC</th>\n",
       "    </tr>\n",
       "    <tr>\n",
       "      <th>Date</th>\n",
       "      <th></th>\n",
       "      <th></th>\n",
       "    </tr>\n",
       "  </thead>\n",
       "  <tbody>\n",
       "    <tr>\n",
       "      <th>2018-12-03</th>\n",
       "      <td>16.266327</td>\n",
       "      <td>2790.370117</td>\n",
       "    </tr>\n",
       "    <tr>\n",
       "      <th>2018-12-04</th>\n",
       "      <td>15.658951</td>\n",
       "      <td>2700.060059</td>\n",
       "    </tr>\n",
       "    <tr>\n",
       "      <th>2018-12-06</th>\n",
       "      <td>15.545067</td>\n",
       "      <td>2695.949951</td>\n",
       "    </tr>\n",
       "    <tr>\n",
       "      <th>2018-12-07</th>\n",
       "      <td>15.136987</td>\n",
       "      <td>2633.080078</td>\n",
       "    </tr>\n",
       "    <tr>\n",
       "      <th>2018-12-10</th>\n",
       "      <td>15.174947</td>\n",
       "      <td>2637.719971</td>\n",
       "    </tr>\n",
       "  </tbody>\n",
       "</table></div>"
      ],
      "text/plain": [
       "                 BLOK        ^GSPC\n",
       "Date                              \n",
       "2018-12-03  16.266327  2790.370117\n",
       "2018-12-04  15.658951  2700.060059\n",
       "2018-12-06  15.545067  2695.949951\n",
       "2018-12-07  15.136987  2633.080078\n",
       "2018-12-10  15.174947  2637.719971"
      ]
     },
     "execution_count": 89,
     "metadata": {},
     "output_type": "execute_result"
    }
   ],
   "source": [
    "block.head()"
   ]
  },
  {
   "cell_type": "code",
   "execution_count": 90,
   "id": "5c0610db",
   "metadata": {},
   "outputs": [
    {
     "data": {
      "text/html": [
       "<div><div id=e26eb315-0dd6-4a8f-b6dd-1b12b03f4f05 style=\"display:none; background-color:#9D6CFF; color:white; width:200px; height:30px; padding-left:5px; border-radius:4px; flex-direction:row; justify-content:space-around; align-items:center;\" onmouseover=\"this.style.backgroundColor='#BA9BF8'\" onmouseout=\"this.style.backgroundColor='#9D6CFF'\" onclick=\"window.commands?.execute('create-mitosheet-from-dataframe-output');\">See Full Dataframe in Mito</div> <script> if (window.commands.hasCommand('create-mitosheet-from-dataframe-output')) document.getElementById('e26eb315-0dd6-4a8f-b6dd-1b12b03f4f05').style.display = 'flex' </script> <table border=\"1\" class=\"dataframe\">\n",
       "  <thead>\n",
       "    <tr style=\"text-align: right;\">\n",
       "      <th></th>\n",
       "      <th>NLR</th>\n",
       "      <th>^GSPC</th>\n",
       "    </tr>\n",
       "    <tr>\n",
       "      <th>Date</th>\n",
       "      <th></th>\n",
       "      <th></th>\n",
       "    </tr>\n",
       "  </thead>\n",
       "  <tbody>\n",
       "    <tr>\n",
       "      <th>2018-12-03</th>\n",
       "      <td>48.647644</td>\n",
       "      <td>2790.370117</td>\n",
       "    </tr>\n",
       "    <tr>\n",
       "      <th>2018-12-04</th>\n",
       "      <td>48.656837</td>\n",
       "      <td>2700.060059</td>\n",
       "    </tr>\n",
       "    <tr>\n",
       "      <th>2018-12-06</th>\n",
       "      <td>48.298252</td>\n",
       "      <td>2695.949951</td>\n",
       "    </tr>\n",
       "    <tr>\n",
       "      <th>2018-12-07</th>\n",
       "      <td>48.555698</td>\n",
       "      <td>2633.080078</td>\n",
       "    </tr>\n",
       "    <tr>\n",
       "      <th>2018-12-10</th>\n",
       "      <td>48.647644</td>\n",
       "      <td>2637.719971</td>\n",
       "    </tr>\n",
       "  </tbody>\n",
       "</table></div>"
      ],
      "text/plain": [
       "                  NLR        ^GSPC\n",
       "Date                              \n",
       "2018-12-03  48.647644  2790.370117\n",
       "2018-12-04  48.656837  2700.060059\n",
       "2018-12-06  48.298252  2695.949951\n",
       "2018-12-07  48.555698  2633.080078\n",
       "2018-12-10  48.647644  2637.719971"
      ]
     },
     "execution_count": 90,
     "metadata": {},
     "output_type": "execute_result"
    }
   ],
   "source": [
    "nukes.head()"
   ]
  },
  {
   "cell_type": "code",
   "execution_count": 91,
   "id": "861c62e1",
   "metadata": {},
   "outputs": [
    {
     "data": {
      "text/html": [
       "<div><div id=eb467da8-5390-403f-8e34-11d504afe2cb style=\"display:none; background-color:#9D6CFF; color:white; width:200px; height:30px; padding-left:5px; border-radius:4px; flex-direction:row; justify-content:space-around; align-items:center;\" onmouseover=\"this.style.backgroundColor='#BA9BF8'\" onmouseout=\"this.style.backgroundColor='#9D6CFF'\" onclick=\"window.commands?.execute('create-mitosheet-from-dataframe-output');\">See Full Dataframe in Mito</div> <script> if (window.commands.hasCommand('create-mitosheet-from-dataframe-output')) document.getElementById('eb467da8-5390-403f-8e34-11d504afe2cb').style.display = 'flex' </script> <table border=\"1\" class=\"dataframe\">\n",
       "  <thead>\n",
       "    <tr style=\"text-align: right;\">\n",
       "      <th></th>\n",
       "      <th>HSV.L</th>\n",
       "      <th>^GSPC</th>\n",
       "    </tr>\n",
       "    <tr>\n",
       "      <th>Date</th>\n",
       "      <th></th>\n",
       "      <th></th>\n",
       "    </tr>\n",
       "  </thead>\n",
       "  <tbody>\n",
       "    <tr>\n",
       "      <th>2018-12-03</th>\n",
       "      <td>908.408020</td>\n",
       "      <td>2790.370117</td>\n",
       "    </tr>\n",
       "    <tr>\n",
       "      <th>2018-12-04</th>\n",
       "      <td>894.345947</td>\n",
       "      <td>2700.060059</td>\n",
       "    </tr>\n",
       "    <tr>\n",
       "      <th>2018-12-05</th>\n",
       "      <td>885.908813</td>\n",
       "      <td>NaN</td>\n",
       "    </tr>\n",
       "    <tr>\n",
       "      <th>2018-12-06</th>\n",
       "      <td>852.161621</td>\n",
       "      <td>2695.949951</td>\n",
       "    </tr>\n",
       "    <tr>\n",
       "      <th>2018-12-07</th>\n",
       "      <td>850.747620</td>\n",
       "      <td>2633.080078</td>\n",
       "    </tr>\n",
       "  </tbody>\n",
       "</table></div>"
      ],
      "text/plain": [
       "                 HSV.L        ^GSPC\n",
       "Date                               \n",
       "2018-12-03  908.408020  2790.370117\n",
       "2018-12-04  894.345947  2700.060059\n",
       "2018-12-05  885.908813          NaN\n",
       "2018-12-06  852.161621  2695.949951\n",
       "2018-12-07  850.747620  2633.080078"
      ]
     },
     "execution_count": 91,
     "metadata": {},
     "output_type": "execute_result"
    }
   ],
   "source": [
    "homeserve.head()"
   ]
  },
  {
   "cell_type": "code",
   "execution_count": 92,
   "id": "f7933d12",
   "metadata": {},
   "outputs": [
    {
     "data": {
      "text/html": [
       "<div><div id=665dc986-3c6f-41f2-81e5-7920cf26d20d style=\"display:none; background-color:#9D6CFF; color:white; width:200px; height:30px; padding-left:5px; border-radius:4px; flex-direction:row; justify-content:space-around; align-items:center;\" onmouseover=\"this.style.backgroundColor='#BA9BF8'\" onmouseout=\"this.style.backgroundColor='#9D6CFF'\" onclick=\"window.commands?.execute('create-mitosheet-from-dataframe-output');\">See Full Dataframe in Mito</div> <script> if (window.commands.hasCommand('create-mitosheet-from-dataframe-output')) document.getElementById('665dc986-3c6f-41f2-81e5-7920cf26d20d').style.display = 'flex' </script> <table border=\"1\" class=\"dataframe\">\n",
       "  <thead>\n",
       "    <tr style=\"text-align: right;\">\n",
       "      <th></th>\n",
       "      <th>SOFI</th>\n",
       "      <th>^GSPC</th>\n",
       "    </tr>\n",
       "    <tr>\n",
       "      <th>Date</th>\n",
       "      <th></th>\n",
       "      <th></th>\n",
       "    </tr>\n",
       "  </thead>\n",
       "  <tbody>\n",
       "    <tr>\n",
       "      <th>2021-06-01</th>\n",
       "      <td>22.650000</td>\n",
       "      <td>4202.040039</td>\n",
       "    </tr>\n",
       "    <tr>\n",
       "      <th>2021-06-02</th>\n",
       "      <td>23.209999</td>\n",
       "      <td>4208.120117</td>\n",
       "    </tr>\n",
       "    <tr>\n",
       "      <th>2021-06-03</th>\n",
       "      <td>22.680000</td>\n",
       "      <td>4192.850098</td>\n",
       "    </tr>\n",
       "    <tr>\n",
       "      <th>2021-06-04</th>\n",
       "      <td>20.820000</td>\n",
       "      <td>4229.890137</td>\n",
       "    </tr>\n",
       "    <tr>\n",
       "      <th>2021-06-07</th>\n",
       "      <td>21.209999</td>\n",
       "      <td>4226.520020</td>\n",
       "    </tr>\n",
       "  </tbody>\n",
       "</table></div>"
      ],
      "text/plain": [
       "                 SOFI        ^GSPC\n",
       "Date                              \n",
       "2021-06-01  22.650000  4202.040039\n",
       "2021-06-02  23.209999  4208.120117\n",
       "2021-06-03  22.680000  4192.850098\n",
       "2021-06-04  20.820000  4229.890137\n",
       "2021-06-07  21.209999  4226.520020"
      ]
     },
     "execution_count": 92,
     "metadata": {},
     "output_type": "execute_result"
    }
   ],
   "source": [
    "sofi.head()"
   ]
  },
  {
   "cell_type": "code",
   "execution_count": 93,
   "id": "1cd1ef20",
   "metadata": {},
   "outputs": [
    {
     "name": "stdout",
     "output_type": "stream",
     "text": [
      "                BLOK     ^GSPC\n",
      "Date                          \n",
      "2018-12-03       NaN       NaN\n",
      "2018-12-04 -0.037339 -0.032365\n",
      "2018-12-06 -0.007273 -0.001522\n",
      "2018-12-07 -0.026251 -0.023320\n",
      "2018-12-10  0.002508  0.001762\n",
      "...              ...       ...\n",
      "2021-11-29  0.028210  0.013200\n",
      "2021-11-30 -0.015322 -0.018961\n",
      "2021-12-01 -0.027320 -0.011815\n",
      "2021-12-02 -0.012649  0.014194\n",
      "2021-12-03 -0.063301 -0.008449\n",
      "\n",
      "[757 rows x 2 columns]\n"
     ]
    }
   ],
   "source": [
    "block_price_change = block.pct_change()\n",
    "print(block_price_change)"
   ]
  },
  {
   "cell_type": "code",
   "execution_count": 94,
   "id": "b12a2e89",
   "metadata": {},
   "outputs": [
    {
     "name": "stdout",
     "output_type": "stream",
     "text": [
      "                 NLR     ^GSPC\n",
      "Date                          \n",
      "2018-12-03       NaN       NaN\n",
      "2018-12-04  0.000189 -0.032365\n",
      "2018-12-06 -0.007370 -0.001522\n",
      "2018-12-07  0.005330 -0.023320\n",
      "2018-12-10  0.001894  0.001762\n",
      "...              ...       ...\n",
      "2021-11-29  0.011724  0.013200\n",
      "2021-11-30 -0.025167 -0.018961\n",
      "2021-12-01 -0.007429 -0.011815\n",
      "2021-12-02  0.014034  0.014194\n",
      "2021-12-03 -0.006090 -0.008449\n",
      "\n",
      "[757 rows x 2 columns]\n"
     ]
    }
   ],
   "source": [
    "nukes_price_change = nukes.pct_change()\n",
    "print(nukes_price_change)"
   ]
  },
  {
   "cell_type": "code",
   "execution_count": 95,
   "id": "6bfd154a",
   "metadata": {},
   "outputs": [
    {
     "name": "stdout",
     "output_type": "stream",
     "text": [
      "               HSV.L     ^GSPC\n",
      "Date                          \n",
      "2018-12-03       NaN       NaN\n",
      "2018-12-04 -0.015480 -0.032365\n",
      "2018-12-05 -0.009434  0.000000\n",
      "2018-12-06 -0.038093 -0.001522\n",
      "2018-12-07 -0.001659 -0.023320\n",
      "...              ...       ...\n",
      "2021-11-29  0.002778  0.013200\n",
      "2021-11-30 -0.003878 -0.018961\n",
      "2021-12-01  0.007786 -0.011815\n",
      "2021-12-02  0.016556  0.014194\n",
      "2021-12-03 -0.004886 -0.008449\n",
      "\n",
      "[773 rows x 2 columns]\n"
     ]
    }
   ],
   "source": [
    "hs_price_change = homeserve.pct_change()\n",
    "print(hs_price_change)"
   ]
  },
  {
   "cell_type": "code",
   "execution_count": 96,
   "id": "e7d74011",
   "metadata": {},
   "outputs": [
    {
     "name": "stdout",
     "output_type": "stream",
     "text": [
      "                SOFI     ^GSPC\n",
      "Date                          \n",
      "2021-06-01       NaN       NaN\n",
      "2021-06-02  0.024724  0.001447\n",
      "2021-06-03 -0.022835 -0.003629\n",
      "2021-06-04 -0.082011  0.008834\n",
      "2021-06-07  0.018732 -0.000797\n",
      "...              ...       ...\n",
      "2021-11-29  0.012081  0.013200\n",
      "2021-11-30 -0.066739 -0.018961\n",
      "2021-12-01 -0.047093 -0.011815\n",
      "2021-12-02  0.002441  0.014194\n",
      "2021-12-03 -0.075472 -0.008449\n",
      "\n",
      "[131 rows x 2 columns]\n"
     ]
    }
   ],
   "source": [
    "sofi_price_change = sofi.pct_change()\n",
    "print(sofi_price_change)"
   ]
  },
  {
   "cell_type": "code",
   "execution_count": 97,
   "id": "301fb5aa",
   "metadata": {},
   "outputs": [],
   "source": [
    "block_df = block_price_change.drop(price_change.index[0])"
   ]
  },
  {
   "cell_type": "code",
   "execution_count": 98,
   "id": "8dbc6f64",
   "metadata": {},
   "outputs": [],
   "source": [
    "nukes_df = nukes_price_change.drop(price_change.index[0])"
   ]
  },
  {
   "cell_type": "code",
   "execution_count": 99,
   "id": "de5e893e",
   "metadata": {},
   "outputs": [],
   "source": [
    "homeserve_df = hs_price_change.drop(price_change.index[0])"
   ]
  },
  {
   "cell_type": "code",
   "execution_count": 100,
   "id": "7c6e77b2",
   "metadata": {},
   "outputs": [],
   "source": [
    "#sofi_df = sofi_price_change.drop(price_change.index[0])"
   ]
  },
  {
   "cell_type": "code",
   "execution_count": 101,
   "id": "17551f64",
   "metadata": {},
   "outputs": [],
   "source": [
    "x2 = np.array(block_df['BLOK']).reshape((-1,1))\n",
    "y2 = np.array(block_df['^GSPC'])"
   ]
  },
  {
   "cell_type": "code",
   "execution_count": 102,
   "id": "42e76085",
   "metadata": {},
   "outputs": [],
   "source": [
    "x3 = np.array(nukes_df['NLR']).reshape((-1,1))\n",
    "y3 = np.array(nukes_df['^GSPC'])"
   ]
  },
  {
   "cell_type": "code",
   "execution_count": 103,
   "id": "21d11bc9",
   "metadata": {},
   "outputs": [],
   "source": [
    "x4 = np.array(homeserve_df['HSV.L']).reshape((-1,1))\n",
    "y4 = np.array(homeserve_df['^GSPC'])"
   ]
  },
  {
   "cell_type": "code",
   "execution_count": 104,
   "id": "7440e066",
   "metadata": {},
   "outputs": [],
   "source": [
    "#x5 = np.array(sofi_df['SOFI']).reshape((-1,1))\n",
    "#y5 = np.array(sofi_df['^GSPC'])"
   ]
  },
  {
   "cell_type": "code",
   "execution_count": 105,
   "id": "9f0a02af",
   "metadata": {},
   "outputs": [],
   "source": [
    "block_model = LinearRegression().fit(x2, y2)"
   ]
  },
  {
   "cell_type": "code",
   "execution_count": 106,
   "id": "a3727cf3",
   "metadata": {},
   "outputs": [],
   "source": [
    "nukes_model = LinearRegression().fit(x3, y3)"
   ]
  },
  {
   "cell_type": "code",
   "execution_count": 107,
   "id": "749d216b",
   "metadata": {},
   "outputs": [],
   "source": [
    "homeserve_model = LinearRegression().fit(x4, y4)"
   ]
  },
  {
   "cell_type": "code",
   "execution_count": 108,
   "id": "b29afe55",
   "metadata": {},
   "outputs": [],
   "source": [
    "#sofi_model = LinearRegression().fit(x5, y5)"
   ]
  },
  {
   "cell_type": "code",
   "execution_count": 109,
   "id": "3c12c0d0",
   "metadata": {},
   "outputs": [
    {
     "name": "stdout",
     "output_type": "stream",
     "text": [
      "tech Beta:  [0.36899263]\n"
     ]
    }
   ],
   "source": [
    "print('tech Beta: ', block_model.coef_)"
   ]
  },
  {
   "cell_type": "code",
   "execution_count": 110,
   "id": "9fb362ec",
   "metadata": {},
   "outputs": [
    {
     "name": "stdout",
     "output_type": "stream",
     "text": [
      "nukes Beta:  [0.88216003]\n"
     ]
    }
   ],
   "source": [
    "print('nukes Beta: ', nukes_model.coef_)"
   ]
  },
  {
   "cell_type": "code",
   "execution_count": 111,
   "id": "ff64017f",
   "metadata": {},
   "outputs": [
    {
     "name": "stdout",
     "output_type": "stream",
     "text": [
      "homeserve Beta:  [0.2706381]\n"
     ]
    }
   ],
   "source": [
    "print('homeserve Beta: ', homeserve_model.coef_)"
   ]
  },
  {
   "cell_type": "code",
   "execution_count": 112,
   "id": "1996feca",
   "metadata": {},
   "outputs": [
    {
     "name": "stderr",
     "output_type": "stream",
     "text": [
      "Backing off send_request(...) for 192.3s (requests.exceptions.SSLError: HTTPSConnectionPool(host='api.segment.io', port=443): Max retries exceeded with url: /v1/batch (Caused by SSLError(SSLCertVerificationError(1, '[SSL: CERTIFICATE_VERIFY_FAILED] certificate verify failed: self signed certificate in certificate chain (_ssl.c:1129)'))))\n",
      "Backing off send_request(...) for 4.6s (requests.exceptions.SSLError: HTTPSConnectionPool(host='api.segment.io', port=443): Max retries exceeded with url: /v1/batch (Caused by SSLError(SSLCertVerificationError(1, '[SSL: CERTIFICATE_VERIFY_FAILED] certificate verify failed: self signed certificate in certificate chain (_ssl.c:1129)'))))\n",
      "Giving up send_request(...) after 11 tries (requests.exceptions.SSLError: HTTPSConnectionPool(host='api.segment.io', port=443): Max retries exceeded with url: /v1/batch (Caused by SSLError(SSLCertVerificationError(1, '[SSL: CERTIFICATE_VERIFY_FAILED] certificate verify failed: self signed certificate in certificate chain (_ssl.c:1129)'))))\n",
      "error uploading: HTTPSConnectionPool(host='api.segment.io', port=443): Max retries exceeded with url: /v1/batch (Caused by SSLError(SSLCertVerificationError(1, '[SSL: CERTIFICATE_VERIFY_FAILED] certificate verify failed: self signed certificate in certificate chain (_ssl.c:1129)')))\n"
     ]
    }
   ],
   "source": [
    "#print('sofi Beta: ', sofi_model.coef_)"
   ]
  },
  {
   "cell_type": "code",
   "execution_count": null,
   "id": "e13b6306",
   "metadata": {},
   "outputs": [],
   "source": []
  }
 ],
 "metadata": {
  "kernelspec": {
   "display_name": "Python 3 (ipykernel)",
   "language": "python",
   "name": "python3"
  },
  "language_info": {
   "codemirror_mode": {
    "name": "ipython",
    "version": 3
   },
   "file_extension": ".py",
   "mimetype": "text/x-python",
   "name": "python",
   "nbconvert_exporter": "python",
   "pygments_lexer": "ipython3",
   "version": "3.9.5"
  }
 },
 "nbformat": 4,
 "nbformat_minor": 5
}
