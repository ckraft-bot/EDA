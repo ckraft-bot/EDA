{
 "cells": [
  {
   "cell_type": "code",
   "execution_count": 42,
   "metadata": {},
   "outputs": [
    {
     "name": "stderr",
     "output_type": "stream",
     "text": [
      "UsageError: Line magic function `%` not found.\n"
     ]
    }
   ],
   "source": [
    "import pandas as pd\n",
    "import numpy as np\n",
    "import matplotlib.pyplot as plt\n",
    "% matplotlib inline"
   ]
  },
  {
   "cell_type": "code",
   "execution_count": 43,
   "metadata": {},
   "outputs": [
    {
     "data": {
      "text/html": [
       "<div><div id=3df77376-0cde-4ce4-9537-eb1380a3a3eb style=\"display:none; background-color:#9D6CFF; color:white; width:200px; height:30px; padding-left:5px; border-radius:4px; flex-direction:row; justify-content:space-around; align-items:center;\" onmouseover=\"this.style.backgroundColor='#BA9BF8'\" onmouseout=\"this.style.backgroundColor='#9D6CFF'\" onclick=\"window.commands?.execute('create-mitosheet-from-dataframe-output');\">See Full Dataframe in Mito</div> <script> if (window.commands.hasCommand('create-mitosheet-from-dataframe-output')) document.getElementById('3df77376-0cde-4ce4-9537-eb1380a3a3eb').style.display = 'flex' </script> <table border=\"1\" class=\"dataframe\">\n",
       "  <thead>\n",
       "    <tr style=\"text-align: right;\">\n",
       "      <th></th>\n",
       "      <th>Date</th>\n",
       "      <th>Open</th>\n",
       "      <th>High</th>\n",
       "      <th>Low</th>\n",
       "      <th>Close</th>\n",
       "      <th>Adj Close</th>\n",
       "      <th>Volume</th>\n",
       "    </tr>\n",
       "  </thead>\n",
       "  <tbody>\n",
       "    <tr>\n",
       "      <th>0</th>\n",
       "      <td>2020-12-15</td>\n",
       "      <td>215.169998</td>\n",
       "      <td>215.419998</td>\n",
       "      <td>212.240005</td>\n",
       "      <td>214.130005</td>\n",
       "      <td>212.350037</td>\n",
       "      <td>27000600</td>\n",
       "    </tr>\n",
       "    <tr>\n",
       "      <th>1</th>\n",
       "      <td>2020-12-16</td>\n",
       "      <td>214.750000</td>\n",
       "      <td>220.110001</td>\n",
       "      <td>214.720001</td>\n",
       "      <td>219.279999</td>\n",
       "      <td>217.457199</td>\n",
       "      <td>35023300</td>\n",
       "    </tr>\n",
       "    <tr>\n",
       "      <th>2</th>\n",
       "      <td>2020-12-17</td>\n",
       "      <td>219.869995</td>\n",
       "      <td>220.889999</td>\n",
       "      <td>217.919998</td>\n",
       "      <td>219.419998</td>\n",
       "      <td>217.596054</td>\n",
       "      <td>32515800</td>\n",
       "    </tr>\n",
       "    <tr>\n",
       "      <th>3</th>\n",
       "      <td>2020-12-18</td>\n",
       "      <td>218.589996</td>\n",
       "      <td>219.690002</td>\n",
       "      <td>216.020004</td>\n",
       "      <td>218.589996</td>\n",
       "      <td>216.772934</td>\n",
       "      <td>63354900</td>\n",
       "    </tr>\n",
       "    <tr>\n",
       "      <th>4</th>\n",
       "      <td>2020-12-21</td>\n",
       "      <td>217.550003</td>\n",
       "      <td>224.000000</td>\n",
       "      <td>217.279999</td>\n",
       "      <td>222.589996</td>\n",
       "      <td>220.739685</td>\n",
       "      <td>37181900</td>\n",
       "    </tr>\n",
       "    <tr>\n",
       "      <th>5</th>\n",
       "      <td>2020-12-22</td>\n",
       "      <td>222.690002</td>\n",
       "      <td>225.630005</td>\n",
       "      <td>221.850006</td>\n",
       "      <td>223.940002</td>\n",
       "      <td>222.078476</td>\n",
       "      <td>22612200</td>\n",
       "    </tr>\n",
       "    <tr>\n",
       "      <th>6</th>\n",
       "      <td>2020-12-23</td>\n",
       "      <td>223.110001</td>\n",
       "      <td>223.559998</td>\n",
       "      <td>220.800003</td>\n",
       "      <td>221.020004</td>\n",
       "      <td>219.182739</td>\n",
       "      <td>18699600</td>\n",
       "    </tr>\n",
       "    <tr>\n",
       "      <th>7</th>\n",
       "      <td>2020-12-24</td>\n",
       "      <td>221.419998</td>\n",
       "      <td>223.610001</td>\n",
       "      <td>221.199997</td>\n",
       "      <td>222.750000</td>\n",
       "      <td>220.898376</td>\n",
       "      <td>10550600</td>\n",
       "    </tr>\n",
       "    <tr>\n",
       "      <th>8</th>\n",
       "      <td>2020-12-28</td>\n",
       "      <td>224.449997</td>\n",
       "      <td>226.029999</td>\n",
       "      <td>223.020004</td>\n",
       "      <td>224.960007</td>\n",
       "      <td>223.089996</td>\n",
       "      <td>17933500</td>\n",
       "    </tr>\n",
       "    <tr>\n",
       "      <th>9</th>\n",
       "      <td>2020-12-29</td>\n",
       "      <td>226.309998</td>\n",
       "      <td>227.179993</td>\n",
       "      <td>223.580002</td>\n",
       "      <td>224.149994</td>\n",
       "      <td>222.286713</td>\n",
       "      <td>17403200</td>\n",
       "    </tr>\n",
       "  </tbody>\n",
       "</table></div>"
      ],
      "text/plain": [
       "         Date        Open        High         Low       Close   Adj Close  \\\n",
       "0  2020-12-15  215.169998  215.419998  212.240005  214.130005  212.350037   \n",
       "1  2020-12-16  214.750000  220.110001  214.720001  219.279999  217.457199   \n",
       "2  2020-12-17  219.869995  220.889999  217.919998  219.419998  217.596054   \n",
       "3  2020-12-18  218.589996  219.690002  216.020004  218.589996  216.772934   \n",
       "4  2020-12-21  217.550003  224.000000  217.279999  222.589996  220.739685   \n",
       "5  2020-12-22  222.690002  225.630005  221.850006  223.940002  222.078476   \n",
       "6  2020-12-23  223.110001  223.559998  220.800003  221.020004  219.182739   \n",
       "7  2020-12-24  221.419998  223.610001  221.199997  222.750000  220.898376   \n",
       "8  2020-12-28  224.449997  226.029999  223.020004  224.960007  223.089996   \n",
       "9  2020-12-29  226.309998  227.179993  223.580002  224.149994  222.286713   \n",
       "\n",
       "     Volume  \n",
       "0  27000600  \n",
       "1  35023300  \n",
       "2  32515800  \n",
       "3  63354900  \n",
       "4  37181900  \n",
       "5  22612200  \n",
       "6  18699600  \n",
       "7  10550600  \n",
       "8  17933500  \n",
       "9  17403200  "
      ]
     },
     "execution_count": 43,
     "metadata": {},
     "output_type": "execute_result"
    }
   ],
   "source": [
    "ms = pd.read_csv(r'C:\\Users\\ckraft\\Desktop\\My Experiments\\Personal Use\\MSFT.csv')\n",
    "ms.head(10)"
   ]
  },
  {
   "cell_type": "code",
   "execution_count": 44,
   "metadata": {},
   "outputs": [],
   "source": [
    "#dist of log return\n",
    "\n",
    "#calculating the log daily return\n",
    "ms['LogReturn'] = np.log(ms['Close']).shift(-1) - np.log(ms['Close'])"
   ]
  },
  {
   "cell_type": "code",
   "execution_count": 45,
   "metadata": {},
   "outputs": [
    {
     "data": {
      "image/png": "[encoded data removed]",
      "text/plain": [
       "<Figure size 1080x576 with 1 Axes>"
      ]
     },
     "metadata": {
      "needs_background": "light"
     },
     "output_type": "display_data"
    }
   ],
   "source": [
    "#Plotting a histogram to show the distribution of log retur\n",
    "from scipy.stats import norm\n",
    "mu = ms['LogReturn'].mean()\n",
    "sigma = ms['LogReturn'].std(ddof=1)\n",
    "\n",
    "density = pd.DataFrame()\n",
    "density['x'] = np.arange(ms['LogReturn'].min()-0.01, ms['LogReturn'].max()+0.01, 0.001)\n",
    "density['pdf'] = norm.pdf(density['x'], mu, sigma)\n",
    "\n",
    "ms['LogReturn'].hist(bins=50, figsize=(15, 8))\n",
    "plt.plot(density['x'], density['pdf'], color='red')\n",
    "plt.show()"
   ]
  },
  {
   "cell_type": "code",
   "execution_count": 46,
   "metadata": {},
   "outputs": [
    {
     "name": "stdout",
     "output_type": "stream",
     "text": [
      "The Probability is  3.648240921862719e-05\n"
     ]
    }
   ],
   "source": [
    "#Pobability that the stock price will drop over 5% in a day\n",
    "prob_return1 = norm.cdf(-0.05, mu, sigma)\n",
    "print('The Probability is ', prob_return1)"
   ]
  },
  {
   "cell_type": "code",
   "execution_count": 47,
   "metadata": {},
   "outputs": [
    {
     "name": "stdout",
     "output_type": "stream",
     "text": [
      "The Probability is  3.042815127521914e-15\n"
     ]
    }
   ],
   "source": [
    "#Probability that the stock price of microsoft will drop over 10% in a day\n",
    "prob_return1 = norm.cdf(-0.10, mu, sigma)\n",
    "print('The Probability is ', prob_return1)"
   ]
  },
  {
   "cell_type": "code",
   "execution_count": 48,
   "metadata": {},
   "outputs": [
    {
     "name": "stdout",
     "output_type": "stream",
     "text": [
      "The probability of dropping over 40% in 220 days is  3.07860344827226e-05\n"
     ]
    }
   ],
   "source": [
    "#Probability of drop over 40% in 220 days\n",
    "mu220 = 220*mu\n",
    "sigma220 = (220**0.5) * sigma\n",
    "print('The probability of dropping over 40% in 220 days is ', norm.cdf(-0.4, mu220, sigma220))"
   ]
  },
  {
   "cell_type": "code",
   "execution_count": 49,
   "metadata": {},
   "outputs": [
    {
     "name": "stdout",
     "output_type": "stream",
     "text": [
      "Single day value at risk  -0.019738013338214382\n"
     ]
    }
   ],
   "source": [
    "#Calculate value at risk (VaR)\n",
    "\n",
    "VaR = norm.ppf(0.05, mu, sigma)\n",
    "print('Single day value at risk ', VaR)"
   ]
  },
  {
   "cell_type": "code",
   "execution_count": 50,
   "metadata": {},
   "outputs": [
    {
     "name": "stdout",
     "output_type": "stream",
     "text": [
      "5% quantile  -0.019738013338214382\n",
      "95% quantile  0.02314411942678371\n"
     ]
    }
   ],
   "source": [
    "#Quatile \n",
    "# 5% quant\n",
    "print('5% quantile ', norm.ppf(0.05, mu, sigma))\n",
    "#95% quant\n",
    "print('95% quantile ', norm.ppf(0.95, mu, sigma))"
   ]
  },
  {
   "cell_type": "code",
   "execution_count": 51,
   "metadata": {},
   "outputs": [],
   "source": [
    "#-----Confidence Interval"
   ]
  },
  {
   "cell_type": "code",
   "execution_count": 52,
   "metadata": {},
   "outputs": [],
   "source": [
    "#log return for average stock return of Microsoft\n",
    "ms['logReturn'] = np.log(ms['Close'].shift(-1)) - np.log(ms['Close'])"
   ]
  },
  {
   "cell_type": "code",
   "execution_count": 53,
   "metadata": {},
   "outputs": [
    {
     "name": "stdout",
     "output_type": "stream",
     "text": [
      "90% confidence interval is  (9.364211863126964e-05, 9.364211863126986e-05)\n"
     ]
    }
   ],
   "source": [
    "#Let's build 90% confidence interval for log return\n",
    "sample_size = ms['logReturn'].shape[0]\n",
    "sample_mean = ms['logReturn'].mean()\n",
    "sample_std = ms['logReturn'].std(ddof=1) / sample_size**0.5\n",
    "\n",
    "#left and right quantile\n",
    "z_left = norm.ppf(0.025)\n",
    "z_right = norm.ppf(0.975) #0.975 = 0.95 + 0.025.\n",
    "\n",
    "#upper and lower bound\n",
    "interval_left = sample_mean+z_left*sample_std\n",
    "interval_right = sample_mean-z_right*sample_std\n",
    "\n",
    "print('90% confidence interval is ', (interval_left, interval_right))"
   ]
  },
  {
   "cell_type": "code",
   "execution_count": 54,
   "metadata": {},
   "outputs": [
    {
     "name": "stdout",
     "output_type": "stream",
     "text": [
      "90% confidence interval is  (9.364211863126964e-05, 9.364211863126986e-05)\n"
     ]
    }
   ],
   "source": [
    "#90% confidence interval tells you that \n",
    "#there will be 90% chance that the average stock return\n",
    "#lies between \"interval_left\" and \"interval_right\".\n",
    "\n",
    "print('90% confidence interval is ', (interval_left, interval_right))"
   ]
  },
  {
   "cell_type": "code",
   "execution_count": null,
   "metadata": {},
   "outputs": [],
   "source": []
  }
 ],
 "metadata": {
  "interpreter": {
   "hash": "f040be8582051f793b05fbf2aab69dd7239653a51bcc4dee7075dc3f544143f8"
  },
  "kernelspec": {
   "display_name": "Python 3.9.5 64-bit",
   "language": "python",
   "name": "python3"
  },
  "language_info": {
   "codemirror_mode": {
    "name": "ipython",
    "version": 3
   },
   "file_extension": ".py",
   "mimetype": "text/x-python",
   "name": "python",
   "nbconvert_exporter": "python",
   "pygments_lexer": "ipython3",
   "version": "3.9.5"
  },
  "orig_nbformat": 4
 },
 "nbformat": 4,
 "nbformat_minor": 2
}
